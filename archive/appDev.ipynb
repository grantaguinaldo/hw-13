{
 "cells": [
  {
   "cell_type": "code",
   "execution_count": null,
   "metadata": {
    "collapsed": true
   },
   "outputs": [],
   "source": [
    "import pandas as pd"
   ]
  },
  {
   "cell_type": "code",
   "execution_count": null,
   "metadata": {
    "collapsed": true
   },
   "outputs": [],
   "source": [
    "meta = '/Users/gta/Desktop/uscdatabootcamp/hw-13/DataSets/Belly_Button_Biodiversity_Metadata.csv'\n",
    "metaCol = '/Users/gta/Desktop/uscdatabootcamp/hw-13/DataSets/metadata_columns.csv'\n",
    "otuId = '/Users/gta/Desktop/uscdatabootcamp/hw-13/DataSets/belly_button_biodiversity_otu_id.csv'\n",
    "samples = '/Users/gta/Desktop/uscdatabootcamp/hw-13/DataSets/belly_button_biodiversity_samples.csv'"
   ]
  },
  {
   "cell_type": "code",
   "execution_count": null,
   "metadata": {
    "collapsed": true
   },
   "outputs": [],
   "source": [
    "dfMeta = pd.read_csv(meta)\n",
    "dfMetaCol = pd.read_csv(metaCol)\n",
    "dfOtuId = pd.read_csv(otuId)\n",
    "dfSamples = pd.read_csv(samples)"
   ]
  },
  {
   "cell_type": "code",
   "execution_count": null,
   "metadata": {},
   "outputs": [],
   "source": [
    "dfMeta.head()"
   ]
  },
  {
   "cell_type": "code",
   "execution_count": null,
   "metadata": {},
   "outputs": [],
   "source": [
    "dfMetaCol.head(22)"
   ]
  },
  {
   "cell_type": "code",
   "execution_count": null,
   "metadata": {},
   "outputs": [],
   "source": [
    "dfOtuId.head()"
   ]
  },
  {
   "cell_type": "code",
   "execution_count": null,
   "metadata": {},
   "outputs": [],
   "source": [
    "dfSamples.head(20)"
   ]
  },
  {
   "cell_type": "code",
   "execution_count": null,
   "metadata": {
    "collapsed": true
   },
   "outputs": [],
   "source": [
    "dfSamples[dfSamples['otu_id'] == 1166]"
   ]
  },
  {
   "cell_type": "code",
   "execution_count": null,
   "metadata": {
    "collapsed": true
   },
   "outputs": [],
   "source": [
    "dfSamples['BB_940'].max()"
   ]
  },
  {
   "cell_type": "code",
   "execution_count": null,
   "metadata": {},
   "outputs": [],
   "source": [
    "dfSamples.sort_values('BB_940', ascending=False)"
   ]
  },
  {
   "cell_type": "code",
   "execution_count": null,
   "metadata": {},
   "outputs": [],
   "source": [
    "df1 = dfSamples[['otu_id', 'BB_969']]"
   ]
  },
  {
   "cell_type": "code",
   "execution_count": null,
   "metadata": {},
   "outputs": [],
   "source": [
    "df1.sort_values('BB_969', ascending=False).head(10)"
   ]
  },
  {
   "cell_type": "code",
   "execution_count": null,
   "metadata": {},
   "outputs": [],
   "source": []
  },
  {
   "cell_type": "code",
   "execution_count": null,
   "metadata": {},
   "outputs": [],
   "source": []
  },
  {
   "cell_type": "code",
   "execution_count": null,
   "metadata": {},
   "outputs": [],
   "source": []
  },
  {
   "cell_type": "code",
   "execution_count": null,
   "metadata": {},
   "outputs": [],
   "source": []
  },
  {
   "cell_type": "code",
   "execution_count": null,
   "metadata": {},
   "outputs": [],
   "source": []
  },
  {
   "cell_type": "code",
   "execution_count": null,
   "metadata": {},
   "outputs": [],
   "source": []
  },
  {
   "cell_type": "code",
   "execution_count": null,
   "metadata": {},
   "outputs": [],
   "source": []
  },
  {
   "cell_type": "code",
   "execution_count": null,
   "metadata": {
    "collapsed": true
   },
   "outputs": [],
   "source": []
  },
  {
   "cell_type": "code",
   "execution_count": null,
   "metadata": {},
   "outputs": [],
   "source": []
  },
  {
   "cell_type": "code",
   "execution_count": null,
   "metadata": {
    "collapsed": true
   },
   "outputs": [],
   "source": []
  },
  {
   "cell_type": "code",
   "execution_count": null,
   "metadata": {
    "collapsed": true
   },
   "outputs": [],
   "source": []
  },
  {
   "cell_type": "code",
   "execution_count": null,
   "metadata": {},
   "outputs": [],
   "source": []
  },
  {
   "cell_type": "code",
   "execution_count": null,
   "metadata": {},
   "outputs": [],
   "source": []
  },
  {
   "cell_type": "code",
   "execution_count": null,
   "metadata": {},
   "outputs": [],
   "source": [
    "dfMetaCol.head()"
   ]
  },
  {
   "cell_type": "code",
   "execution_count": null,
   "metadata": {},
   "outputs": [],
   "source": [
    "dfMetaCol.columns.tolist()"
   ]
  },
  {
   "cell_type": "code",
   "execution_count": null,
   "metadata": {},
   "outputs": [],
   "source": [
    "dfOtuId.head()"
   ]
  },
  {
   "cell_type": "code",
   "execution_count": null,
   "metadata": {},
   "outputs": [],
   "source": [
    "dfOtuId.iloc[0]['lowest_taxonomic_unit_found']"
   ]
  },
  {
   "cell_type": "code",
   "execution_count": null,
   "metadata": {},
   "outputs": [],
   "source": [
    "dfOtuId.iloc[3]['lowest_taxonomic_unit_found']"
   ]
  },
  {
   "cell_type": "code",
   "execution_count": null,
   "metadata": {},
   "outputs": [],
   "source": [
    "dfOtuId.iloc[4]['lowest_taxonomic_unit_found']"
   ]
  },
  {
   "cell_type": "code",
   "execution_count": null,
   "metadata": {},
   "outputs": [],
   "source": [
    "dfOtuId.columns.tolist()"
   ]
  },
  {
   "cell_type": "code",
   "execution_count": null,
   "metadata": {},
   "outputs": [],
   "source": []
  },
  {
   "cell_type": "code",
   "execution_count": null,
   "metadata": {},
   "outputs": [],
   "source": []
  },
  {
   "cell_type": "code",
   "execution_count": null,
   "metadata": {
    "collapsed": true
   },
   "outputs": [],
   "source": [
    "#Need to figure out how to create an automap of the SQLite database that has three tables.\n",
    "#https://stackoverflow.com/questions/17652937/how-to-build-a-flask-application-around-an-already-existing-database"
   ]
  },
  {
   "cell_type": "code",
   "execution_count": null,
   "metadata": {
    "collapsed": true
   },
   "outputs": [],
   "source": [
    "from sqlalchemy import create_engine, inspect\n",
    "from sqlalchemy.ext.declarative import declarative_base\n",
    "from sqlalchemy.orm import scoped_session, sessionmaker, Query\n",
    "\n",
    "engine = create_engine('sqlite:///DataSets/belly_button_biodiversity.sqlite', convert_unicode=True, echo=False)\n",
    "Base = declarative_base()\n",
    "Base.metadata.reflect(engine)\n",
    "\n",
    "class Otu(Base):\n",
    "    __table__ = Base.metadata.tables['otu']\n",
    "    \n",
    "class Samples(Base):\n",
    "    __table__ = Base.metadata.tables['samples']\n",
    "    \n",
    "class SamplesMetadata(Base):\n",
    "    __table__ = Base.metadata.tables['samples_metadata']\n",
    "\n",
    "session = scoped_session(sessionmaker(bind=engine))"
   ]
  },
  {
   "cell_type": "code",
   "execution_count": null,
   "metadata": {},
   "outputs": [],
   "source": [
    "sampleID = 'BB_969'\n",
    "query = 'SELECT otu_id, %s FROM Samples ORDER BY BB_969 DESC LIMIT 10' % (sampleID)"
   ]
  },
  {
   "cell_type": "code",
   "execution_count": null,
   "metadata": {
    "collapsed": true
   },
   "outputs": [],
   "source": [
    "import json\n",
    "def sampleJson(sampleID):\n",
    "    query = 'SELECT otu_id, %s FROM Samples ORDER BY %s DESC LIMIT 10' % (sampleID, sampleID)\n",
    "    queryData = engine.execute(query)\n",
    "    queryList = [each for each in queryData]\n",
    "    otu_id, sampleValues = zip(*queryList)\n",
    "    dataDict = {\"otu_ids\": list(otu_id), \n",
    "                 \"sample_values\": list(sampleValues)\n",
    "                }\n",
    "    jsonarray = json.dumps(dataDict)\n",
    "    return jsonarray"
   ]
  },
  {
   "cell_type": "code",
   "execution_count": null,
   "metadata": {},
   "outputs": [],
   "source": [
    "sampleID = 'BB_940'\n",
    "sampleJson(sampleID)"
   ]
  },
  {
   "cell_type": "code",
   "execution_count": null,
   "metadata": {
    "collapsed": true
   },
   "outputs": [],
   "source": [
    "sampleNum = 941\n",
    "queryExpression = session.query(SamplesMetadata.WFREQ).filter(SamplesMetadata.SAMPLEID == sampleNum)"
   ]
  },
  {
   "cell_type": "code",
   "execution_count": null,
   "metadata": {},
   "outputs": [],
   "source": [
    "inspector = inspect(engine)\n",
    "print(inspector.get_table_names())"
   ]
  },
  {
   "cell_type": "code",
   "execution_count": null,
   "metadata": {},
   "outputs": [],
   "source": [
    "#Query to obtain the wash frequency based on a sample ID.\n",
    "\n",
    "sampleID = 'BB_969'\n",
    "\n",
    "queryExpression = session.query(Samples.otu_id, Samples.BB_969).order_by(Samples.BB_969.desc()).limit(10)\n",
    "unpack = [each for each in queryExpression]\n",
    "dataDict = [{\"otu_ids\": each[0], \n",
    "             \"sample_values\": each[1]\n",
    "            } for each in queryExpression]\n",
    "dataDict"
   ]
  },
  {
   "cell_type": "code",
   "execution_count": null,
   "metadata": {
    "collapsed": true
   },
   "outputs": [],
   "source": [
    "otuQueryList = [each for each in otuQueryReturn]\n",
    "otuOutput = [each_ for (each_,) in otuQueryList]"
   ]
  },
  {
   "cell_type": "code",
   "execution_count": null,
   "metadata": {},
   "outputs": [],
   "source": [
    "#Query to obtain the meta data for a given sample ID.\n",
    "\n",
    "#https://stackoverflow.com/questions/36810554/python-tuple-to-json-structure\n",
    "\n",
    "sampleNum = 950\n",
    "\n",
    "queryExpression = session.query(SamplesMetadata.AGE, SamplesMetadata.BBTYPE, SamplesMetadata.ETHNICITY, SamplesMetadata.GENDER, SamplesMetadata.LOCATION, SamplesMetadata.SAMPLEID).filter(SamplesMetadata.SAMPLEID == sampleNum)\n",
    "dataDict = [{\"age\": each[0], \n",
    "             \"BBTYPE\": each[1],\n",
    "             'GENDER': each[3],\n",
    "             'ETHNICITY': each[2],\n",
    "             'LOCATION': each[4],\n",
    "             'SAMPLEID': each[5]\n",
    "            } for each in queryExpression]\n",
    "\n",
    "dataDict"
   ]
  },
  {
   "cell_type": "code",
   "execution_count": null,
   "metadata": {
    "collapsed": true
   },
   "outputs": [],
   "source": []
  },
  {
   "cell_type": "code",
   "execution_count": null,
   "metadata": {
    "collapsed": true
   },
   "outputs": [],
   "source": []
  },
  {
   "cell_type": "code",
   "execution_count": null,
   "metadata": {},
   "outputs": [],
   "source": [
    "#Quer\n",
    "\n",
    "queryExpression = session.query(Otu.lowest_taxonomic_unit_found)\n",
    "for each in queryExpression:\n",
    "    print(each)"
   ]
  },
  {
   "cell_type": "code",
   "execution_count": null,
   "metadata": {
    "collapsed": true
   },
   "outputs": [],
   "source": [
    "#Function to obtain the list of samples in the database.\n",
    "sampleNameList = [column.key for column in Samples.__table__.columns][1:]"
   ]
  },
  {
   "cell_type": "code",
   "execution_count": null,
   "metadata": {
    "collapsed": true
   },
   "outputs": [],
   "source": [
    "#Function that returns the OTU IDs and Sample Values for a given sample.\n",
    "#Don't understand what is being asked."
   ]
  },
  {
   "cell_type": "code",
   "execution_count": null,
   "metadata": {
    "collapsed": true
   },
   "outputs": [],
   "source": []
  },
  {
   "cell_type": "code",
   "execution_count": null,
   "metadata": {
    "collapsed": true
   },
   "outputs": [],
   "source": [
    "def otuOutput():\n",
    "\n",
    "    otuQueryReturn = queryExpression = session.query(Otu.lowest_taxonomic_unit_found)\n",
    "    otuQueryList = [each for each in otuQueryReturn]\n",
    "    otuOutput = [each_ for (each_,) in otuQueryList]\n",
    "\n",
    "    return otuOutput"
   ]
  },
  {
   "cell_type": "code",
   "execution_count": null,
   "metadata": {},
   "outputs": [],
   "source": [
    "x = otuOutput()\n",
    "print(x)"
   ]
  },
  {
   "cell_type": "code",
   "execution_count": null,
   "metadata": {
    "collapsed": true
   },
   "outputs": [],
   "source": [
    "import requests as r\n",
    "import json"
   ]
  },
  {
   "cell_type": "raw",
   "metadata": {
    "collapsed": true
   },
   "source": []
  },
  {
   "cell_type": "code",
   "execution_count": null,
   "metadata": {
    "collapsed": true
   },
   "outputs": [],
   "source": [
    "url = 'http://127.0.0.1:5000/api/v1/metadata/940'"
   ]
  },
  {
   "cell_type": "code",
   "execution_count": null,
   "metadata": {
    "collapsed": true
   },
   "outputs": [],
   "source": [
    "data = r.get(url)"
   ]
  },
  {
   "cell_type": "code",
   "execution_count": null,
   "metadata": {},
   "outputs": [],
   "source": [
    "data.json()[0]"
   ]
  },
  {
   "cell_type": "code",
   "execution_count": null,
   "metadata": {
    "collapsed": true
   },
   "outputs": [],
   "source": []
  }
 ],
 "metadata": {
  "kernelspec": {
   "display_name": "Python 3",
   "language": "python",
   "name": "python3"
  },
  "language_info": {
   "codemirror_mode": {
    "name": "ipython",
    "version": 3
   },
   "file_extension": ".py",
   "mimetype": "text/x-python",
   "name": "python",
   "nbconvert_exporter": "python",
   "pygments_lexer": "ipython3",
   "version": "3.6.3"
  }
 },
 "nbformat": 4,
 "nbformat_minor": 2
}
